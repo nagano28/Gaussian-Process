{
 "cells": [
  {
   "cell_type": "code",
   "execution_count": 1,
   "metadata": {
    "colab": {},
    "colab_type": "code",
    "id": "bqR5v5a1fGP4"
   },
   "outputs": [],
   "source": [
    "import sys\n",
    "import numpy as np\n",
    "from pylab import *\n",
    "from numpy.linalg import det,inv\n",
    "from scipy.optimize import minimize, fmin_l_bfgs_b"
   ]
  },
  {
   "cell_type": "markdown",
   "metadata": {
    "colab_type": "text",
    "id": "L1NwG7ybICuh"
   },
   "source": [
    "## パラメータ"
   ]
  },
  {
   "cell_type": "code",
   "execution_count": 2,
   "metadata": {
    "colab": {},
    "colab_type": "code",
    "id": "QbKaZZBhfGUB"
   },
   "outputs": [],
   "source": [
    "# plot parameters\n",
    "N    = 100\n",
    "xmin = -1\n",
    "xmax = 3.5\n",
    "ymin = -1\n",
    "ymax = 3"
   ]
  },
  {
   "cell_type": "markdown",
   "metadata": {
    "colab_type": "text",
    "id": "Lv4HyX1iIGpw"
   },
   "source": [
    "## データ＆初期パラメータ"
   ]
  },
  {
   "cell_type": "code",
   "execution_count": 3,
   "metadata": {
    "colab": {},
    "colab_type": "code",
    "id": "30H8nXD4R6fC"
   },
   "outputs": [],
   "source": [
    "train = np.array([ [-0.5,\t0.7], [0.5,\t1.8], [1,1.7], [1.4,\t2.3], [3,1],[2.3,0],[2.5,0.2],[1.5,2],[1.1,2.4],[0.7,\t1.5]])\n",
    "\n",
    "# kernel parameters\n",
    "tau = log(1.0)\n",
    "sigma = log(1.0)\n",
    "eta   = log(1.0)"
   ]
  },
  {
   "cell_type": "code",
   "execution_count": 4,
   "metadata": {
    "colab": {},
    "colab_type": "code",
    "id": "UVpZeZwKSLRt"
   },
   "outputs": [],
   "source": [
    "xtrain = train.T[0]\n",
    "ytrain = train.T[1]"
   ]
  },
  {
   "cell_type": "markdown",
   "metadata": {
    "colab_type": "text",
    "id": "xW3nfjVgSGiQ"
   },
   "source": [
    "### カーネル"
   ]
  },
  {
   "cell_type": "code",
   "execution_count": 5,
   "metadata": {
    "colab": {},
    "colab_type": "code",
    "id": "SCqyGVyLfGWU"
   },
   "outputs": [],
   "source": [
    "#eq. 3.96\n",
    "def gauss (params, xi, xj):\n",
    "    [tau, sigma, eta] = params\n",
    "    \n",
    "    if xi == xj:\n",
    "      a = 1\n",
    "    else:\n",
    "      a = 0\n",
    "    return exp(tau) * exp (-(xi - xj)**2 / exp(sigma)) + (exp(eta)*a)"
   ]
  },
  {
   "cell_type": "markdown",
   "metadata": {
    "colab_type": "text",
    "id": "jfZUm79LSLpN"
   },
   "source": [
    "### 偏微分"
   ]
  },
  {
   "cell_type": "code",
   "execution_count": 6,
   "metadata": {
    "colab": {},
    "colab_type": "code",
    "id": "aWAFnAbhfGYs"
   },
   "outputs": [],
   "source": [
    "#eq. 3.96以降\n",
    "def gauss_grad (xi,xj,d,kernel,params):\n",
    "    [tau, sigma, eta] = params\n",
    "    \n",
    "    if xi == xj:\n",
    "      a = 1\n",
    "    else:\n",
    "      a=0\n",
    "    \n",
    "    if d == 0: #tau\n",
    "        return np.exp(tau) * np.exp (-(xi - xj)**2 / np.exp(sigma)) \n",
    "        #return -exp(params[d]) + kernel(params, xi, xj)\n",
    "      \n",
    "    if d == 1: #sigma\n",
    "        #return (np.exp(tau) * np.exp (-(xi - xj)**2 / np.exp(sigma))) * (xi - xj) * (xi - xj) / np.exp(params[d])\n",
    "        return (kernel(params, xi, xj) - np.exp(eta) * a) * np.exp(-params[d]) * np.square(xi - xj)\n",
    "    \n",
    "    if d == 2: #eta\n",
    "        return (np.exp(params[d]) if xi == xj else 0)\n",
    "    else:\n",
    "        return 0\n",
    " "
   ]
  },
  {
   "cell_type": "markdown",
   "metadata": {
    "colab_type": "text",
    "id": "QeyxV_8sSaGi"
   },
   "source": [
    "### カーネル行列計算"
   ]
  },
  {
   "cell_type": "code",
   "execution_count": 7,
   "metadata": {
    "colab": {},
    "colab_type": "code",
    "id": "xW_R0IHCfGdI"
   },
   "outputs": [],
   "source": [
    "def kernel_matrix_calc (xx, kernel, params):\n",
    "    N = len(xx)\n",
    "    return np.array ([kernel(params, xi, xj) for xi in xx for xj in xx]).reshape(N,N)"
   ]
  },
  {
   "cell_type": "code",
   "execution_count": 8,
   "metadata": {
    "colab": {},
    "colab_type": "code",
    "id": "1_soUjMK13ty"
   },
   "outputs": [],
   "source": [
    "#パラメータの推移をみる関数(あってもなくても)\n",
    "def printparam (params):\n",
    "    print (params)"
   ]
  },
  {
   "cell_type": "code",
   "execution_count": 9,
   "metadata": {
    "colab": {},
    "colab_type": "code",
    "id": "oz0kwYf-15pT"
   },
   "outputs": [],
   "source": [
    "##eq. 3.92\n",
    "#目的関数\n",
    "def loglik (params,xtrain,ytrain,kernel,k_grad):\n",
    "    K = kernel_matrix_calc (xtrain, kernel,params)\n",
    "    Kinv = np.linalg.inv(K)\n",
    "    return np.log(np.linalg.det(K)) + ytrain.T.dot(Kinv).dot(ytrain)"
   ]
  },
  {
   "cell_type": "code",
   "execution_count": 10,
   "metadata": {
    "colab": {},
    "colab_type": "code",
    "id": "IjjsIP4q17wL"
   },
   "outputs": [],
   "source": [
    "#勾配計算\n",
    "##準備\n",
    "def tr(A,B):\n",
    "    return (A*B.T).sum()\n",
    "\n",
    "##eq. 3.95\n",
    "def gradient (params,xtrain,ytrain,kernel,k_grad):\n",
    "    K = kernel_matrix_calc (xtrain, kernel,params)\n",
    "    Kinv = np.linalg.inv(K)\n",
    "    Kinvy = np.dot(Kinv, ytrain)\n",
    "    D = len(params)\n",
    "    N = len(xtrain)\n",
    "    grad = np.zeros(D)\n",
    "    \n",
    "    for d in range(D):\n",
    "        G = np.array ([k_grad (xi, xj, d, kernel, params) for xi in xtrain for xj in xtrain]).reshape(N,N)\n",
    "        grad[d] = tr(Kinv,G) - Kinvy.dot(G).dot(Kinvy)\n",
    "    return grad"
   ]
  },
  {
   "cell_type": "markdown",
   "metadata": {
    "colab_type": "text",
    "id": "Bnq-xKa-S8kq"
   },
   "source": [
    "## 最適化"
   ]
  },
  {
   "cell_type": "code",
   "execution_count": 11,
   "metadata": {
    "colab": {},
    "colab_type": "code",
    "id": "T16xamej1_20"
   },
   "outputs": [],
   "source": [
    "def optimize (xtrain, ytrain, kernel, k_grad, params):\n",
    "    #目的関数, 初期値, 目的関数に渡す引数, 勾配, 最適化手法, コールバック, オプション(勾配の終了目標, 結果の表示)\n",
    "    res = minimize (loglik, params, args = (xtrain,ytrain,kernel,k_grad), jac = gradient, method = 'BFGS', callback = printparam, options = {'gtol' : 1e-4, 'disp' : True})\n",
    "    \n",
    "    print (\"message: \",res.message)\n",
    "    return res.x #params"
   ]
  },
  {
   "cell_type": "code",
   "execution_count": 12,
   "metadata": {
    "colab": {},
    "colab_type": "code",
    "id": "VSGrR0N12FUm"
   },
   "outputs": [],
   "source": [
    "def optimize1 (xtrain, ytrain, kernel, k_grad, params):\n",
    "    x,f,d = fmin_l_bfgs_b (loglik, params, fprime=gradient, args=[xtrain,ytrain,kernel,k_grad], iprint=0, maxiter=1000)\n",
    "    print (d)\n",
    "    return x"
   ]
  },
  {
   "cell_type": "code",
   "execution_count": 13,
   "metadata": {
    "colab": {
     "base_uri": "https://localhost:8080/",
     "height": 266
    },
    "colab_type": "code",
    "executionInfo": {
     "elapsed": 1050,
     "status": "ok",
     "timestamp": 1568360006901,
     "user": {
      "displayName": "長野匡隼",
      "photoUrl": "",
      "userId": "15635473969771913691"
     },
     "user_tz": -540
    },
    "id": "WLjhEv6F2NPt",
    "outputId": "4f5fe862-b0f3-428b-81cb-6d7ad61b4880"
   },
   "outputs": [
    {
     "name": "stdout",
     "output_type": "stream",
     "text": [
      "[ 0.11603271  0.16783012 -0.98917615]\n",
      "[ 1.0579929  -0.7707608  -3.05517786]\n",
      "[ 0.33332363 -0.35210078 -3.36309876]\n",
      "[ 0.23621252 -0.40332506 -2.9155413 ]\n",
      "[ 0.40777313 -0.27429429 -2.76280004]\n",
      "[ 0.47758735 -0.42365266 -2.76627534]\n",
      "[ 0.42252988 -0.37400435 -2.70015824]\n",
      "[ 0.42161247 -0.3721224  -2.70262992]\n",
      "[ 0.42166594 -0.37209994 -2.70286591]\n",
      "Optimization terminated successfully.\n",
      "         Current function value: 2.509299\n",
      "         Iterations: 9\n",
      "         Function evaluations: 11\n",
      "         Gradient evaluations: 11\n",
      "message:  Optimization terminated successfully.\n"
     ]
    }
   ],
   "source": [
    "kernel = gauss\n",
    "k_grad  = gauss_grad\n",
    "params = np.array ([tau, sigma, eta])\n",
    "\n",
    "#最適化方法変更\n",
    "params = optimize (xtrain, ytrain, kernel, k_grad, params)\n",
    "#params = optimize1 (xtrain, ytrain, kernel, k_grad, params)"
   ]
  },
  {
   "cell_type": "markdown",
   "metadata": {
    "colab_type": "text",
    "id": "IbamnOG-TGmH"
   },
   "source": [
    "## 予測"
   ]
  },
  {
   "cell_type": "markdown",
   "metadata": {
    "colab_type": "text",
    "id": "QrRpqe4K8fBT"
   },
   "source": [
    "### code3-4参照"
   ]
  },
  {
   "cell_type": "code",
   "execution_count": 14,
   "metadata": {
    "colab": {},
    "colab_type": "code",
    "id": "6JP5jL5q8onP"
   },
   "outputs": [],
   "source": [
    "#gauss = kernel　なので\n",
    "#k = kernel(params, x, x)"
   ]
  },
  {
   "cell_type": "code",
   "execution_count": 15,
   "metadata": {
    "colab": {},
    "colab_type": "code",
    "id": "cTpakxFpb6_A"
   },
   "outputs": [],
   "source": [
    "#Kの算出\n",
    "K = []\n",
    "N = len(ytrain)\n",
    "\n",
    "for n in range(N):\n",
    "  for n_d in range(N):\n",
    "    k = kernel(params, xtrain[n],xtrain[n_d])\n",
    "    K.append(k)\n",
    "K = np.array(K).reshape(N,N)"
   ]
  },
  {
   "cell_type": "code",
   "execution_count": 16,
   "metadata": {
    "colab": {},
    "colab_type": "code",
    "id": "yqF3xHEJcU0K"
   },
   "outputs": [],
   "source": [
    "#K_inv, yyの算出\n",
    "K_inv = np.linalg.inv(K)\n",
    "yy = np.dot(K_inv, ytrain)"
   ]
  },
  {
   "cell_type": "code",
   "execution_count": 17,
   "metadata": {
    "colab": {},
    "colab_type": "code",
    "id": "vRUllqOuccLf"
   },
   "outputs": [],
   "source": [
    "#xtest作成\n",
    "xx = np.linspace(xmin, xmax, 200)"
   ]
  },
  {
   "cell_type": "code",
   "execution_count": 18,
   "metadata": {
    "colab": {},
    "colab_type": "code",
    "id": "08JUBGnPcfnx"
   },
   "outputs": [],
   "source": [
    "#MuとSigmaの作成\n",
    "M = len(xx)\n",
    "Mu = []\n",
    "Sigma = []\n",
    "for m in range(M):\n",
    "  k = []\n",
    "  for n in range(N):\n",
    "    k_ = kernel(params, xtrain[n], xx[m])\n",
    "    k.append(k_)\n",
    "  \n",
    "  k = np.array(k)  \n",
    "  #s = gauss(xx[m], xx[m], theta1, theta2)\n",
    "  s = kernel(params, xx[m], xx[m])\n",
    "  mu = np.dot(k, yy)\n",
    "  sigma = s - k.T.dot(K_inv).dot(k)\n",
    "  Mu.append(mu)\n",
    "  Sigma.append(sigma)"
   ]
  },
  {
   "cell_type": "code",
   "execution_count": 19,
   "metadata": {
    "colab": {
     "base_uri": "https://localhost:8080/",
     "height": 268
    },
    "colab_type": "code",
    "executionInfo": {
     "elapsed": 1299,
     "status": "ok",
     "timestamp": 1568360007220,
     "user": {
      "displayName": "長野匡隼",
      "photoUrl": "",
      "userId": "15635473969771913691"
     },
     "user_tz": -540
    },
    "id": "R-u3f1uYc2J7",
    "outputId": "bdbf47dc-deec-48fd-f645-194383516faf"
   },
   "outputs": [
    {
     "data": {
      "image/png": "[encoded data removed]",
      "text/plain": [
       "<Figure size 432x288 with 1 Axes>"
      ]
     },
     "metadata": {
      "needs_background": "light"
     },
     "output_type": "display_data"
    }
   ],
   "source": [
    "plt.figure()\n",
    "plot (xtrain, ytrain, 'kx', markersize=8)\n",
    "plot (xx, Mu, 'b-')\n",
    "fill_between (xx, Mu - 2*sqrt(Sigma), Mu + 2*sqrt(Sigma), color='#ccccff')\n",
    "show ()"
   ]
  },
  {
   "cell_type": "code",
   "execution_count": null,
   "metadata": {
    "colab": {},
    "colab_type": "code",
    "id": "QvW32EOcbxOm"
   },
   "outputs": [],
   "source": []
  }
 ],
 "metadata": {
  "colab": {
   "collapsed_sections": [],
   "name": "code3-5.ipynb のコピー",
   "provenance": [
    {
     "file_id": "1tTIDdtaxIWpKnr1dfAmbIPzpvXXlSzIL",
     "timestamp": 1568347847564
    }
   ],
   "version": "0.3.2"
  },
  "kernelspec": {
   "display_name": "Python 3",
   "language": "python",
   "name": "python3"
  },
  "language_info": {
   "codemirror_mode": {
    "name": "ipython",
    "version": 3
   },
   "file_extension": ".py",
   "mimetype": "text/x-python",
   "name": "python",
   "nbconvert_exporter": "python",
   "pygments_lexer": "ipython3",
   "version": "3.7.4"
  }
 },
 "nbformat": 4,
 "nbformat_minor": 1
}
